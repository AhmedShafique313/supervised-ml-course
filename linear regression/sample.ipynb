# -*- coding: utf-8 -*-
"""
Created on Thu Apr 11 18:49:24 2024

@author: AhmedShafique
"""

print('Hello World')