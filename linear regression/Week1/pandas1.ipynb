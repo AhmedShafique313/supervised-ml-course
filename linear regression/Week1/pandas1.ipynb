{
 "cells": [
  {
   "cell_type": "markdown",
   "metadata": {},
   "source": [
    "# This is Udemy Lab 1 Slide "
   ]
  },
  {
   "cell_type": "code",
   "execution_count": 1,
   "metadata": {},
   "outputs": [
    {
     "name": "stderr",
     "output_type": "stream",
     "text": [
      "C:\\Users\\AhmedShafique\\AppData\\Local\\Temp\\ipykernel_18308\\4080736814.py:1: DeprecationWarning: \n",
      "Pyarrow will become a required dependency of pandas in the next major release of pandas (pandas 3.0),\n",
      "(to allow more performant data types, such as the Arrow string type, and better interoperability with other libraries)\n",
      "but was not found to be installed on your system.\n",
      "If this would cause problems for you,\n",
      "please provide us feedback at https://github.com/pandas-dev/pandas/issues/54466\n",
      "        \n",
      "  import pandas as pd\n"
     ]
    }
   ],
   "source": [
    "import pandas as pd"
   ]
  },
  {
   "cell_type": "code",
   "execution_count": 2,
   "metadata": {},
   "outputs": [],
   "source": [
    "df = pd.read_csv('blood_pressure.csv')"
   ]
  },
  {
   "cell_type": "code",
   "execution_count": 3,
   "metadata": {},
   "outputs": [
    {
     "name": "stdout",
     "output_type": "stream",
     "text": [
      "       Patient_Number  Blood_Pressure_Abnormality  Level_of_Hemoglobin  \\\n",
      "count     2000.000000                 2000.000000          2000.000000   \n",
      "mean      1000.500000                    0.493500            11.710035   \n",
      "std        577.494589                    0.500083             2.186701   \n",
      "min          1.000000                    0.000000             8.100000   \n",
      "25%        500.750000                    0.000000            10.147500   \n",
      "50%       1000.500000                    0.000000            11.330000   \n",
      "75%       1500.250000                    1.000000            12.945000   \n",
      "max       2000.000000                    1.000000            17.560000   \n",
      "\n",
      "       Genetic_Pedigree_Coefficient          Age          BMI          Sex  \\\n",
      "count                   1908.000000  2000.000000  2000.000000  2000.000000   \n",
      "mean                       0.494817    46.558500    30.081500     0.496000   \n",
      "std                        0.291736    17.107832    11.761208     0.500109   \n",
      "min                        0.000000    18.000000    10.000000     0.000000   \n",
      "25%                        0.240000    32.000000    20.000000     0.000000   \n",
      "50%                        0.490000    46.000000    30.000000     0.000000   \n",
      "75%                        0.740000    62.000000    40.000000     1.000000   \n",
      "max                        1.000000    75.000000    50.000000     1.000000   \n",
      "\n",
      "        Pregnancy      Smoking  Physical_activity  salt_content_in_the_diet  \\\n",
      "count  442.000000  2000.000000        2000.000000               2000.000000   \n",
      "mean     0.450226     0.509500       25254.424500              24926.097000   \n",
      "std      0.498080     0.500035       14015.439623              14211.692586   \n",
      "min      0.000000     0.000000         628.000000                 22.000000   \n",
      "25%      0.000000     0.000000       13605.750000              13151.750000   \n",
      "50%      0.000000     1.000000       25353.000000              25046.500000   \n",
      "75%      1.000000     1.000000       37382.250000              36839.750000   \n",
      "max      1.000000     1.000000       49980.000000              49976.000000   \n",
      "\n",
      "       alcohol_consumption_per_day  Level_of_Stress  Chronic_kidney_disease  \\\n",
      "count                  1758.000000      2000.000000               2000.0000   \n",
      "mean                    251.008532         2.012500                  0.5050   \n",
      "std                     143.651884         0.823822                  0.5001   \n",
      "min                       0.000000         1.000000                  0.0000   \n",
      "25%                     126.250000         1.000000                  0.0000   \n",
      "50%                     250.000000         2.000000                  1.0000   \n",
      "75%                     377.750000         3.000000                  1.0000   \n",
      "max                     499.000000         3.000000                  1.0000   \n",
      "\n",
      "       Adrenal_and_thyroid_disorders  \n",
      "count                    2000.000000  \n",
      "mean                        0.443500  \n",
      "std                         0.496922  \n",
      "min                         0.000000  \n",
      "25%                         0.000000  \n",
      "50%                         0.000000  \n",
      "75%                         1.000000  \n",
      "max                         1.000000  \n"
     ]
    }
   ],
   "source": [
    "print(df.describe())"
   ]
  },
  {
   "cell_type": "code",
   "execution_count": 4,
   "metadata": {},
   "outputs": [
    {
     "name": "stdout",
     "output_type": "stream",
     "text": [
      "       Patient_Number  Blood_Pressure_Abnormality  Level_of_Hemoglobin  \\\n",
      "count     2000.000000                 2000.000000          2000.000000   \n",
      "mean      1000.500000                    0.493500            11.710035   \n",
      "std        577.494589                    0.500083             2.186701   \n",
      "min          1.000000                    0.000000             8.100000   \n",
      "25%        500.750000                    0.000000            10.147500   \n",
      "50%       1000.500000                    0.000000            11.330000   \n",
      "75%       1500.250000                    1.000000            12.945000   \n",
      "max       2000.000000                    1.000000            17.560000   \n",
      "\n",
      "       Genetic_Pedigree_Coefficient          Age          BMI          Sex  \\\n",
      "count                   1908.000000  2000.000000  2000.000000  2000.000000   \n",
      "mean                       0.494817    46.558500    30.081500     0.496000   \n",
      "std                        0.291736    17.107832    11.761208     0.500109   \n",
      "min                        0.000000    18.000000    10.000000     0.000000   \n",
      "25%                        0.240000    32.000000    20.000000     0.000000   \n",
      "50%                        0.490000    46.000000    30.000000     0.000000   \n",
      "75%                        0.740000    62.000000    40.000000     1.000000   \n",
      "max                        1.000000    75.000000    50.000000     1.000000   \n",
      "\n",
      "        Pregnancy      Smoking  Physical_activity  salt_content_in_the_diet  \\\n",
      "count  442.000000  2000.000000        2000.000000               2000.000000   \n",
      "mean     0.450226     0.509500       25254.424500              24926.097000   \n",
      "std      0.498080     0.500035       14015.439623              14211.692586   \n",
      "min      0.000000     0.000000         628.000000                 22.000000   \n",
      "25%      0.000000     0.000000       13605.750000              13151.750000   \n",
      "50%      0.000000     1.000000       25353.000000              25046.500000   \n",
      "75%      1.000000     1.000000       37382.250000              36839.750000   \n",
      "max      1.000000     1.000000       49980.000000              49976.000000   \n",
      "\n",
      "       alcohol_consumption_per_day  Level_of_Stress  Chronic_kidney_disease  \\\n",
      "count                  1758.000000      2000.000000               2000.0000   \n",
      "mean                    251.008532         2.012500                  0.5050   \n",
      "std                     143.651884         0.823822                  0.5001   \n",
      "min                       0.000000         1.000000                  0.0000   \n",
      "25%                     126.250000         1.000000                  0.0000   \n",
      "50%                     250.000000         2.000000                  1.0000   \n",
      "75%                     377.750000         3.000000                  1.0000   \n",
      "max                     499.000000         3.000000                  1.0000   \n",
      "\n",
      "       Adrenal_and_thyroid_disorders  \n",
      "count                    2000.000000  \n",
      "mean                        0.443500  \n",
      "std                         0.496922  \n",
      "min                         0.000000  \n",
      "25%                         0.000000  \n",
      "50%                         0.000000  \n",
      "75%                         1.000000  \n",
      "max                         1.000000  \n"
     ]
    }
   ],
   "source": [
    "print(df.describe(include='all'))"
   ]
  },
  {
   "cell_type": "code",
   "execution_count": 5,
   "metadata": {},
   "outputs": [
    {
     "name": "stdout",
     "output_type": "stream",
     "text": [
      "<class 'pandas.core.frame.DataFrame'>\n",
      "RangeIndex: 2000 entries, 0 to 1999\n",
      "Data columns (total 15 columns):\n",
      " #   Column                         Non-Null Count  Dtype  \n",
      "---  ------                         --------------  -----  \n",
      " 0   Patient_Number                 2000 non-null   int64  \n",
      " 1   Blood_Pressure_Abnormality     2000 non-null   int64  \n",
      " 2   Level_of_Hemoglobin            2000 non-null   float64\n",
      " 3   Genetic_Pedigree_Coefficient   1908 non-null   float64\n",
      " 4   Age                            2000 non-null   int64  \n",
      " 5   BMI                            2000 non-null   int64  \n",
      " 6   Sex                            2000 non-null   int64  \n",
      " 7   Pregnancy                      442 non-null    float64\n",
      " 8   Smoking                        2000 non-null   int64  \n",
      " 9   Physical_activity              2000 non-null   int64  \n",
      " 10  salt_content_in_the_diet       2000 non-null   int64  \n",
      " 11  alcohol_consumption_per_day    1758 non-null   float64\n",
      " 12  Level_of_Stress                2000 non-null   int64  \n",
      " 13  Chronic_kidney_disease         2000 non-null   int64  \n",
      " 14  Adrenal_and_thyroid_disorders  2000 non-null   int64  \n",
      "dtypes: float64(4), int64(11)\n",
      "memory usage: 234.5 KB\n",
      "None\n"
     ]
    }
   ],
   "source": [
    "print(df.info())"
   ]
  },
  {
   "cell_type": "code",
   "execution_count": 6,
   "metadata": {},
   "outputs": [],
   "source": [
    "import matplotlib.pyplot as plt"
   ]
  },
  {
   "cell_type": "code",
   "execution_count": 7,
   "metadata": {},
   "outputs": [
    {
     "data": {
      "text/plain": [
       "<Axes: ylabel='count'>"
      ]
     },
     "execution_count": 7,
     "metadata": {},
     "output_type": "execute_result"
    },
    {
     "data": {
      "image/png": "[encoded data removed]",
      "text/plain": [
       "<Figure size 640x480 with 1 Axes>"
      ]
     },
     "metadata": {},
     "output_type": "display_data"
    }
   ],
   "source": [
    "df['Sex'].value_counts().plot(kind='pie')"
   ]
  },
  {
   "cell_type": "code",
   "execution_count": 8,
   "metadata": {},
   "outputs": [
    {
     "data": {
      "text/plain": [
       "<Axes: xlabel='No of People', ylabel='Age'>"
      ]
     },
     "execution_count": 8,
     "metadata": {},
     "output_type": "execute_result"
    },
    {
     "data": {
      "image/png": "[encoded data removed]",
      "text/plain": [
       "<Figure size 640x480 with 1 Axes>"
      ]
     },
     "metadata": {},
     "output_type": "display_data"
    }
   ],
   "source": [
    "df['Age'].value_counts().plot(kind='bar', xlabel='No of People', ylabel='Age')"
   ]
  },
  {
   "cell_type": "code",
   "execution_count": 9,
   "metadata": {},
   "outputs": [
    {
     "name": "stdout",
     "output_type": "stream",
     "text": [
      "   Patient_Number  Blood_Pressure_Abnormality  Level_of_Hemoglobin  \\\n",
      "0               1                           1                11.28   \n",
      "1               2                           0                 9.75   \n",
      "2               3                           1                10.79   \n",
      "3               4                           0                11.00   \n",
      "4               5                           1                14.17   \n",
      "5               6                           0                11.64   \n",
      "6               7                           1                11.69   \n",
      "7               8                           0                12.70   \n",
      "8               9                           0                10.88   \n",
      "9              10                           1                14.56   \n",
      "\n",
      "   Genetic_Pedigree_Coefficient  Age  BMI  Sex  Pregnancy  Smoking  \\\n",
      "0                          0.90   34   23    1        1.0        0   \n",
      "1                          0.23   54   33    1        NaN        0   \n",
      "2                          0.91   70   49    0        NaN        0   \n",
      "3                          0.43   71   50    0        NaN        0   \n",
      "4                          0.83   52   19    0        NaN        0   \n",
      "5                          0.54   23   48    0        NaN        1   \n",
      "6                          0.75   43   41    1        1.0        0   \n",
      "7                          0.41   48   20    0        NaN        0   \n",
      "8                          0.68   72   44    0        NaN        0   \n",
      "9                          0.61   40   44    0        NaN        0   \n",
      "\n",
      "   Physical_activity  salt_content_in_the_diet  alcohol_consumption_per_day  \\\n",
      "0              45961                     48071                          NaN   \n",
      "1              26106                     25333                        205.0   \n",
      "2               9995                     29465                         67.0   \n",
      "3              10635                      7439                        242.0   \n",
      "4              15619                     49644                        397.0   \n",
      "5              27042                      7513                          NaN   \n",
      "6              38369                     32967                        206.0   \n",
      "7              29781                     26749                        134.0   \n",
      "8                814                      9607                         99.0   \n",
      "9               1278                     12715                         95.0   \n",
      "\n",
      "   Level_of_Stress  Chronic_kidney_disease  Adrenal_and_thyroid_disorders  \n",
      "0                2                       1                              1  \n",
      "1                3                       0                              0  \n",
      "2                2                       1                              0  \n",
      "3                1                       1                              0  \n",
      "4                2                       0                              0  \n",
      "5                3                       0                              0  \n",
      "6                3                       1                              1  \n",
      "7                2                       0                              0  \n",
      "8                3                       0                              0  \n",
      "9                2                       0                              0  \n"
     ]
    }
   ],
   "source": [
    "print(df.iloc[0:10])"
   ]
  },
  {
   "cell_type": "code",
   "execution_count": 10,
   "metadata": {},
   "outputs": [
    {
     "name": "stdout",
     "output_type": "stream",
     "text": [
      "0    11.28\n",
      "1     9.75\n",
      "2    10.79\n",
      "3    11.00\n",
      "4    14.17\n",
      "5    11.64\n",
      "6    11.69\n",
      "7    12.70\n",
      "8    10.88\n",
      "9    14.56\n",
      "Name: Level_of_Hemoglobin, dtype: float64\n"
     ]
    }
   ],
   "source": [
    "print(df.iloc[0:10, 2])"
   ]
  },
  {
   "cell_type": "code",
   "execution_count": 11,
   "metadata": {},
   "outputs": [
    {
     "data": {
      "text/html": [
       "<div>\n",
       "<style scoped>\n",
       "    .dataframe tbody tr th:only-of-type {\n",
       "        vertical-align: middle;\n",
       "    }\n",
       "\n",
       "    .dataframe tbody tr th {\n",
       "        vertical-align: top;\n",
       "    }\n",
       "\n",
       "    .dataframe thead th {\n",
       "        text-align: right;\n",
       "    }\n",
       "</style>\n",
       "<table border=\"1\" class=\"dataframe\">\n",
       "  <thead>\n",
       "    <tr style=\"text-align: right;\">\n",
       "      <th></th>\n",
       "      <th>Patient_Number</th>\n",
       "      <th>Blood_Pressure_Abnormality</th>\n",
       "      <th>Level_of_Hemoglobin</th>\n",
       "      <th>Genetic_Pedigree_Coefficient</th>\n",
       "      <th>Age</th>\n",
       "      <th>BMI</th>\n",
       "      <th>Sex</th>\n",
       "      <th>Pregnancy</th>\n",
       "      <th>Smoking</th>\n",
       "      <th>Physical_activity</th>\n",
       "      <th>salt_content_in_the_diet</th>\n",
       "      <th>alcohol_consumption_per_day</th>\n",
       "      <th>Level_of_Stress</th>\n",
       "      <th>Chronic_kidney_disease</th>\n",
       "      <th>Adrenal_and_thyroid_disorders</th>\n",
       "    </tr>\n",
       "  </thead>\n",
       "  <tbody>\n",
       "  </tbody>\n",
       "</table>\n",
       "</div>"
      ],
      "text/plain": [
       "Empty DataFrame\n",
       "Columns: [Patient_Number, Blood_Pressure_Abnormality, Level_of_Hemoglobin, Genetic_Pedigree_Coefficient, Age, BMI, Sex, Pregnancy, Smoking, Physical_activity, salt_content_in_the_diet, alcohol_consumption_per_day, Level_of_Stress, Chronic_kidney_disease, Adrenal_and_thyroid_disorders]\n",
       "Index: []"
      ]
     },
     "execution_count": 11,
     "metadata": {},
     "output_type": "execute_result"
    }
   ],
   "source": [
    "df_query = df.query(\"Sex == '1'\")\n",
    "df_query.head()"
   ]
  },
  {
   "cell_type": "code",
   "execution_count": 12,
   "metadata": {},
   "outputs": [
    {
     "data": {
      "text/html": [
       "<div>\n",
       "<style scoped>\n",
       "    .dataframe tbody tr th:only-of-type {\n",
       "        vertical-align: middle;\n",
       "    }\n",
       "\n",
       "    .dataframe tbody tr th {\n",
       "        vertical-align: top;\n",
       "    }\n",
       "\n",
       "    .dataframe thead th {\n",
       "        text-align: right;\n",
       "    }\n",
       "</style>\n",
       "<table border=\"1\" class=\"dataframe\">\n",
       "  <thead>\n",
       "    <tr style=\"text-align: right;\">\n",
       "      <th></th>\n",
       "      <th>Patient_Number</th>\n",
       "      <th>Blood_Pressure_Abnormality</th>\n",
       "      <th>Level_of_Hemoglobin</th>\n",
       "      <th>Genetic_Pedigree_Coefficient</th>\n",
       "      <th>Age</th>\n",
       "      <th>BMI</th>\n",
       "      <th>Sex</th>\n",
       "      <th>Pregnancy</th>\n",
       "      <th>Smoking</th>\n",
       "      <th>Physical_activity</th>\n",
       "      <th>salt_content_in_the_diet</th>\n",
       "      <th>alcohol_consumption_per_day</th>\n",
       "      <th>Level_of_Stress</th>\n",
       "      <th>Chronic_kidney_disease</th>\n",
       "      <th>Adrenal_and_thyroid_disorders</th>\n",
       "    </tr>\n",
       "  </thead>\n",
       "  <tbody>\n",
       "    <tr>\n",
       "      <th>1758</th>\n",
       "      <td>1759</td>\n",
       "      <td>0</td>\n",
       "      <td>10.89</td>\n",
       "      <td>0.79</td>\n",
       "      <td>18</td>\n",
       "      <td>18</td>\n",
       "      <td>1</td>\n",
       "      <td>1.0</td>\n",
       "      <td>1</td>\n",
       "      <td>24545</td>\n",
       "      <td>16518</td>\n",
       "      <td>NaN</td>\n",
       "      <td>2</td>\n",
       "      <td>0</td>\n",
       "      <td>1</td>\n",
       "    </tr>\n",
       "    <tr>\n",
       "      <th>732</th>\n",
       "      <td>733</td>\n",
       "      <td>1</td>\n",
       "      <td>9.82</td>\n",
       "      <td>0.30</td>\n",
       "      <td>18</td>\n",
       "      <td>20</td>\n",
       "      <td>1</td>\n",
       "      <td>1.0</td>\n",
       "      <td>0</td>\n",
       "      <td>19978</td>\n",
       "      <td>35796</td>\n",
       "      <td>NaN</td>\n",
       "      <td>3</td>\n",
       "      <td>0</td>\n",
       "      <td>1</td>\n",
       "    </tr>\n",
       "    <tr>\n",
       "      <th>260</th>\n",
       "      <td>261</td>\n",
       "      <td>0</td>\n",
       "      <td>10.85</td>\n",
       "      <td>0.58</td>\n",
       "      <td>18</td>\n",
       "      <td>43</td>\n",
       "      <td>1</td>\n",
       "      <td>0.0</td>\n",
       "      <td>1</td>\n",
       "      <td>21378</td>\n",
       "      <td>26491</td>\n",
       "      <td>NaN</td>\n",
       "      <td>1</td>\n",
       "      <td>0</td>\n",
       "      <td>0</td>\n",
       "    </tr>\n",
       "    <tr>\n",
       "      <th>1077</th>\n",
       "      <td>1078</td>\n",
       "      <td>1</td>\n",
       "      <td>12.98</td>\n",
       "      <td>0.08</td>\n",
       "      <td>18</td>\n",
       "      <td>47</td>\n",
       "      <td>0</td>\n",
       "      <td>NaN</td>\n",
       "      <td>1</td>\n",
       "      <td>47038</td>\n",
       "      <td>15579</td>\n",
       "      <td>NaN</td>\n",
       "      <td>2</td>\n",
       "      <td>1</td>\n",
       "      <td>0</td>\n",
       "    </tr>\n",
       "    <tr>\n",
       "      <th>911</th>\n",
       "      <td>912</td>\n",
       "      <td>1</td>\n",
       "      <td>14.59</td>\n",
       "      <td>0.13</td>\n",
       "      <td>18</td>\n",
       "      <td>48</td>\n",
       "      <td>0</td>\n",
       "      <td>NaN</td>\n",
       "      <td>0</td>\n",
       "      <td>37440</td>\n",
       "      <td>47622</td>\n",
       "      <td>NaN</td>\n",
       "      <td>2</td>\n",
       "      <td>1</td>\n",
       "      <td>1</td>\n",
       "    </tr>\n",
       "  </tbody>\n",
       "</table>\n",
       "</div>"
      ],
      "text/plain": [
       "      Patient_Number  Blood_Pressure_Abnormality  Level_of_Hemoglobin  \\\n",
       "1758            1759                           0                10.89   \n",
       "732              733                           1                 9.82   \n",
       "260              261                           0                10.85   \n",
       "1077            1078                           1                12.98   \n",
       "911              912                           1                14.59   \n",
       "\n",
       "      Genetic_Pedigree_Coefficient  Age  BMI  Sex  Pregnancy  Smoking  \\\n",
       "1758                          0.79   18   18    1        1.0        1   \n",
       "732                           0.30   18   20    1        1.0        0   \n",
       "260                           0.58   18   43    1        0.0        1   \n",
       "1077                          0.08   18   47    0        NaN        1   \n",
       "911                           0.13   18   48    0        NaN        0   \n",
       "\n",
       "      Physical_activity  salt_content_in_the_diet  \\\n",
       "1758              24545                     16518   \n",
       "732               19978                     35796   \n",
       "260               21378                     26491   \n",
       "1077              47038                     15579   \n",
       "911               37440                     47622   \n",
       "\n",
       "      alcohol_consumption_per_day  Level_of_Stress  Chronic_kidney_disease  \\\n",
       "1758                          NaN                2                       0   \n",
       "732                           NaN                3                       0   \n",
       "260                           NaN                1                       0   \n",
       "1077                          NaN                2                       1   \n",
       "911                           NaN                2                       1   \n",
       "\n",
       "      Adrenal_and_thyroid_disorders  \n",
       "1758                              1  \n",
       "732                               1  \n",
       "260                               0  \n",
       "1077                              0  \n",
       "911                               1  "
      ]
     },
     "execution_count": 12,
     "metadata": {},
     "output_type": "execute_result"
    }
   ],
   "source": [
    "df_sorted = df.sort_values(by= 'Age')\n",
    "df_sorted.head()"
   ]
  },
  {
   "cell_type": "markdown",
   "metadata": {},
   "source": [
    "# Lab Session 1 ended"
   ]
  }
 ],
 "metadata": {
  "kernelspec": {
   "display_name": "Python 3",
   "language": "python",
   "name": "python3"
  },
  "language_info": {
   "codemirror_mode": {
    "name": "ipython",
    "version": 3
   },
   "file_extension": ".py",
   "mimetype": "text/x-python",
   "name": "python",
   "nbconvert_exporter": "python",
   "pygments_lexer": "ipython3",
   "version": "3.10.6"
  }
 },
 "nbformat": 4,
 "nbformat_minor": 2
}
