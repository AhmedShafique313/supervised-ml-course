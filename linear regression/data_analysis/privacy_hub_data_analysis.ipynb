{
 "cells": [
  {
   "cell_type": "markdown",
   "metadata": {},
   "source": [
    "## Privacy HUB data Analysis"
   ]
  },
  {
   "cell_type": "markdown",
   "metadata": {},
   "source": [
    "This is toy data which has been created within Privacy Hub and does not reflect any real people. The dataset includes a number of variables relating to physical attributes, hobbies and a ‘token’ which is used to distinguish one patient from another. A token is a value which is created from any one or more input values. It looks nonsensical (as it is a ‘hash’) and cannot be re-engineered to the original value."
   ]
  },
  {
   "cell_type": "markdown",
   "metadata": {},
   "source": [
    "### INITIAL OBSERVATIONS AND INFERENCE FROM DATASET\n",
    "- The dataset includes columns for various attributes such as token, name,surname, sex, age, height, weight.kg, eyecolour, test.group, hobbies, and marstat (marital status).\n",
    "- The dataset contains a mix of numerical (age, height, weight.kg, test.group) and categorical (sex, eyecolour, hobbies, marstat) data.\n",
    "- The variable 'test.group' is not clearly defined in the dataset. This lack of clarity might hinder precise analysis.\n",
    "- Misallignment in the data because of missing values.\n",
    "- The absence of standardization in the 'sex' and 'marstat' column."
   ]
  },
  {
   "cell_type": "code",
   "execution_count": 2,
   "metadata": {},
   "outputs": [],
   "source": [
    "import numpy as np\n",
    "import pandas as pd\n",
    "import matplotlib.pyplot as plt"
   ]
  },
  {
   "cell_type": "code",
   "execution_count": 3,
   "metadata": {},
   "outputs": [],
   "source": [
    "data = 'DA_TaskSheet_Hobbies (1) (1).txt'\n",
    "dataset = pd.read_csv(data)"
   ]
  },
  {
   "cell_type": "code",
   "execution_count": 4,
   "metadata": {},
   "outputs": [],
   "source": [
    "colomn_names=['token','name','surname','sex','age','height','weight.kg', 'eyecolour', 'test.group', 'hobbies', 'marstat']"
   ]
  },
  {
   "cell_type": "code",
   "execution_count": 5,
   "metadata": {},
   "outputs": [
    {
     "name": "stderr",
     "output_type": "stream",
     "text": [
      "C:\\Users\\AhmedShafique\\AppData\\Local\\Temp\\ipykernel_7928\\640884193.py:2: FutureWarning: The 'delim_whitespace' keyword in pd.read_csv is deprecated and will be removed in a future version. Use ``sep='\\s+'`` instead\n",
      "  df = pd.read_csv(data, delim_whitespace=True, nrows=1)\n"
     ]
    }
   ],
   "source": [
    "# Read the entire file into a DataFrame\n",
    "df = pd.read_csv(data, delim_whitespace=True, nrows=1)\n",
    "# Extract column names from the first row\n",
    "column_names = df.columns.tolist()"
   ]
  },
  {
   "cell_type": "code",
   "execution_count": 6,
   "metadata": {},
   "outputs": [
    {
     "data": {
      "text/html": [
       "<div>\n",
       "<style scoped>\n",
       "    .dataframe tbody tr th:only-of-type {\n",
       "        vertical-align: middle;\n",
       "    }\n",
       "\n",
       "    .dataframe tbody tr th {\n",
       "        vertical-align: top;\n",
       "    }\n",
       "\n",
       "    .dataframe thead th {\n",
       "        text-align: right;\n",
       "    }\n",
       "</style>\n",
       "<table border=\"1\" class=\"dataframe\">\n",
       "  <thead>\n",
       "    <tr style=\"text-align: right;\">\n",
       "      <th></th>\n",
       "      <th>age</th>\n",
       "      <th>height</th>\n",
       "      <th>weight.kg</th>\n",
       "      <th>test.group</th>\n",
       "    </tr>\n",
       "  </thead>\n",
       "  <tbody>\n",
       "    <tr>\n",
       "      <th>count</th>\n",
       "      <td>1.0</td>\n",
       "      <td>1.00</td>\n",
       "      <td>1.0</td>\n",
       "      <td>1.0</td>\n",
       "    </tr>\n",
       "    <tr>\n",
       "      <th>mean</th>\n",
       "      <td>31.0</td>\n",
       "      <td>1.81</td>\n",
       "      <td>96.6</td>\n",
       "      <td>1.0</td>\n",
       "    </tr>\n",
       "    <tr>\n",
       "      <th>std</th>\n",
       "      <td>NaN</td>\n",
       "      <td>NaN</td>\n",
       "      <td>NaN</td>\n",
       "      <td>NaN</td>\n",
       "    </tr>\n",
       "    <tr>\n",
       "      <th>min</th>\n",
       "      <td>31.0</td>\n",
       "      <td>1.81</td>\n",
       "      <td>96.6</td>\n",
       "      <td>1.0</td>\n",
       "    </tr>\n",
       "    <tr>\n",
       "      <th>25%</th>\n",
       "      <td>31.0</td>\n",
       "      <td>1.81</td>\n",
       "      <td>96.6</td>\n",
       "      <td>1.0</td>\n",
       "    </tr>\n",
       "    <tr>\n",
       "      <th>50%</th>\n",
       "      <td>31.0</td>\n",
       "      <td>1.81</td>\n",
       "      <td>96.6</td>\n",
       "      <td>1.0</td>\n",
       "    </tr>\n",
       "    <tr>\n",
       "      <th>75%</th>\n",
       "      <td>31.0</td>\n",
       "      <td>1.81</td>\n",
       "      <td>96.6</td>\n",
       "      <td>1.0</td>\n",
       "    </tr>\n",
       "    <tr>\n",
       "      <th>max</th>\n",
       "      <td>31.0</td>\n",
       "      <td>1.81</td>\n",
       "      <td>96.6</td>\n",
       "      <td>1.0</td>\n",
       "    </tr>\n",
       "  </tbody>\n",
       "</table>\n",
       "</div>"
      ],
      "text/plain": [
       "        age  height  weight.kg  test.group\n",
       "count   1.0    1.00        1.0         1.0\n",
       "mean   31.0    1.81       96.6         1.0\n",
       "std     NaN     NaN        NaN         NaN\n",
       "min    31.0    1.81       96.6         1.0\n",
       "25%    31.0    1.81       96.6         1.0\n",
       "50%    31.0    1.81       96.6         1.0\n",
       "75%    31.0    1.81       96.6         1.0\n",
       "max    31.0    1.81       96.6         1.0"
      ]
     },
     "execution_count": 6,
     "metadata": {},
     "output_type": "execute_result"
    }
   ],
   "source": [
    "df.describe()"
   ]
  },
  {
   "cell_type": "code",
   "execution_count": 7,
   "metadata": {},
   "outputs": [
    {
     "name": "stdout",
     "output_type": "stream",
     "text": [
      "<class 'pandas.core.frame.DataFrame'>\n",
      "RangeIndex: 1 entries, 0 to 0\n",
      "Data columns (total 11 columns):\n",
      " #   Column      Non-Null Count  Dtype  \n",
      "---  ------      --------------  -----  \n",
      " 0   token       1 non-null      object \n",
      " 1   name        1 non-null      object \n",
      " 2   surname     1 non-null      object \n",
      " 3   sex         1 non-null      object \n",
      " 4   age         1 non-null      int64  \n",
      " 5   height      1 non-null      float64\n",
      " 6   weight.kg   1 non-null      float64\n",
      " 7   eyecolour   1 non-null      object \n",
      " 8   test.group  1 non-null      int64  \n",
      " 9   hobbies     1 non-null      object \n",
      " 10  marstat     1 non-null      object \n",
      "dtypes: float64(2), int64(2), object(7)\n",
      "memory usage: 216.0+ bytes\n"
     ]
    }
   ],
   "source": [
    "df.info()"
   ]
  },
  {
   "cell_type": "code",
   "execution_count": 8,
   "metadata": {},
   "outputs": [
    {
     "data": {
      "text/html": [
       "<div>\n",
       "<style scoped>\n",
       "    .dataframe tbody tr th:only-of-type {\n",
       "        vertical-align: middle;\n",
       "    }\n",
       "\n",
       "    .dataframe tbody tr th {\n",
       "        vertical-align: top;\n",
       "    }\n",
       "\n",
       "    .dataframe thead th {\n",
       "        text-align: right;\n",
       "    }\n",
       "</style>\n",
       "<table border=\"1\" class=\"dataframe\">\n",
       "  <thead>\n",
       "    <tr style=\"text-align: right;\">\n",
       "      <th></th>\n",
       "      <th>token</th>\n",
       "      <th>name</th>\n",
       "      <th>surname</th>\n",
       "      <th>sex</th>\n",
       "      <th>age</th>\n",
       "      <th>height</th>\n",
       "      <th>weight.kg</th>\n",
       "      <th>eyecolour</th>\n",
       "      <th>test.group</th>\n",
       "      <th>hobbies</th>\n",
       "      <th>marstat</th>\n",
       "    </tr>\n",
       "  </thead>\n",
       "  <tbody>\n",
       "    <tr>\n",
       "      <th>0</th>\n",
       "      <td>29ef6f59fd9ac01e32b96a2deb31468cead3da1e55217b...</td>\n",
       "      <td>David</td>\n",
       "      <td>Stephens</td>\n",
       "      <td>male</td>\n",
       "      <td>31</td>\n",
       "      <td>1.81</td>\n",
       "      <td>96.6</td>\n",
       "      <td>blue</td>\n",
       "      <td>1</td>\n",
       "      <td>Plays cricket, football and rugby</td>\n",
       "      <td>married</td>\n",
       "    </tr>\n",
       "  </tbody>\n",
       "</table>\n",
       "</div>"
      ],
      "text/plain": [
       "                                               token   name   surname   sex  \\\n",
       "0  29ef6f59fd9ac01e32b96a2deb31468cead3da1e55217b...  David  Stephens  male   \n",
       "\n",
       "   age  height  weight.kg eyecolour  test.group  \\\n",
       "0   31    1.81       96.6      blue           1   \n",
       "\n",
       "                             hobbies  marstat  \n",
       "0  Plays cricket, football and rugby  married  "
      ]
     },
     "execution_count": 8,
     "metadata": {},
     "output_type": "execute_result"
    }
   ],
   "source": [
    "df.head()"
   ]
  },
  {
   "cell_type": "code",
   "execution_count": 9,
   "metadata": {},
   "outputs": [],
   "source": [
    "filtered_data = df[(df['eyecolour']=='blue') & (df['age'] > 20) & (df['age'] < 50)]"
   ]
  },
  {
   "cell_type": "code",
   "execution_count": 10,
   "metadata": {},
   "outputs": [],
   "source": [
    "#converting to numeric data to weight.kg\n",
    "filtered_data.loc[:,'weight.kg'] = pd.to_numeric(filtered_data['weight.kg'], errors='coerce')"
   ]
  },
  {
   "cell_type": "code",
   "execution_count": 11,
   "metadata": {},
   "outputs": [
    {
     "name": "stdout",
     "output_type": "stream",
     "text": [
      "96.6\n"
     ]
    }
   ],
   "source": [
    "average_weight = filtered_data['weight.kg'].mean()\n",
    "print(average_weight)"
   ]
  },
  {
   "cell_type": "markdown",
   "metadata": {},
   "source": [
    "The average weight of individuals with `blue eyes` aged between 20 and 50 years (inclusive) in the dataset is approximately `96.6 kgs`. This calculation was achieved by filtering the dataset to include the records matching the criteria for eye color to 'blue' within the specified age range. Subsequently, the mean weight is determined for this refined group."
   ]
  },
  {
   "cell_type": "markdown",
   "metadata": {},
   "source": [
    "Here is a new library we are going to study in this course known as `seaborn`"
   ]
  },
  {
   "cell_type": "code",
   "execution_count": 12,
   "metadata": {},
   "outputs": [],
   "source": [
    "import seaborn as sns"
   ]
  },
  {
   "cell_type": "code",
   "execution_count": 13,
   "metadata": {},
   "outputs": [],
   "source": [
    "df['height'] = pd.to_numeric(filtered_data['height'], errors='coerce')"
   ]
  },
  {
   "cell_type": "code",
   "execution_count": 14,
   "metadata": {},
   "outputs": [
    {
     "data": {
      "image/png": "[encoded data removed]",
      "text/plain": [
       "<Figure size 1600x600 with 1 Axes>"
      ]
     },
     "metadata": {},
     "output_type": "display_data"
    },
    {
     "data": {
      "text/plain": [
       "count    1.00\n",
       "mean     1.81\n",
       "std       NaN\n",
       "min      1.81\n",
       "25%      1.81\n",
       "50%      1.81\n",
       "75%      1.81\n",
       "max      1.81\n",
       "Name: height, dtype: float64"
      ]
     },
     "execution_count": 14,
     "metadata": {},
     "output_type": "execute_result"
    }
   ],
   "source": [
    "plt.figure(figsize=(16,6))\n",
    "sns.histplot(df['height'].dropna(), kde=True)\n",
    "plt.title('Distribution of heights')\n",
    "plt.xlabel('Height')\n",
    "plt.ylabel('Frequency')\n",
    "plt.ylim(0, None)\n",
    "plt.show()\n",
    "\n",
    "height_stats = df['height'].describe()\n",
    "height_stats"
   ]
  },
  {
   "cell_type": "code",
   "execution_count": 15,
   "metadata": {},
   "outputs": [],
   "source": [
    "height_data = df.loc[:, 'height']"
   ]
  },
  {
   "cell_type": "code",
   "execution_count": 16,
   "metadata": {},
   "outputs": [],
   "source": [
    "def convert_to_cm(height_data):\n",
    "    return height_data*2.54"
   ]
  },
  {
   "cell_type": "code",
   "execution_count": 19,
   "metadata": {},
   "outputs": [],
   "source": [
    "df['height_cm'] = df['height'] * 2.54"
   ]
  }
 ],
 "metadata": {
  "kernelspec": {
   "display_name": "Python 3",
   "language": "python",
   "name": "python3"
  },
  "language_info": {
   "codemirror_mode": {
    "name": "ipython",
    "version": 3
   },
   "file_extension": ".py",
   "mimetype": "text/x-python",
   "name": "python",
   "nbconvert_exporter": "python",
   "pygments_lexer": "ipython3",
   "version": "undefined.undefined.undefined"
  }
 },
 "nbformat": 4,
 "nbformat_minor": 2
}
