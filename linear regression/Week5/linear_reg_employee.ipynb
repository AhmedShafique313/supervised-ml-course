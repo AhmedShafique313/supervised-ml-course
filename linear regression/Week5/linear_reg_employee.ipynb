{
 "cells": [
  {
   "cell_type": "markdown",
   "metadata": {},
   "source": [
    "## Lab Session 6 \n",
    "In this lab session you'll learn about `sklearn` library of python. Using this library how can we predict salary of employees\n",
    "\n"
   ]
  },
  {
   "cell_type": "markdown",
   "metadata": {},
   "source": [
    "`Importing Libraries`\n",
    "Here, we import necessary libraries: NumPy for numerical computations, Pandas for data manipulation and analysis, and Matplotlib for data visualization."
   ]
  },
  {
   "cell_type": "code",
   "execution_count": 1,
   "metadata": {},
   "outputs": [],
   "source": [
    "import numpy as np\n",
    "import pandas as pd\n",
    "import matplotlib.pyplot as plt"
   ]
  },
  {
   "cell_type": "code",
   "execution_count": 2,
   "metadata": {},
   "outputs": [
    {
     "name": "stdout",
     "output_type": "stream",
     "text": [
      "              ID  Experience_Years        Age        Salary\n",
      "count  35.000000          35.00000  35.000000  3.500000e+01\n",
      "mean   18.000000           9.20000  35.485714  2.059147e+06\n",
      "std    10.246951           7.55295  14.643552  3.170124e+06\n",
      "min     1.000000           1.00000  17.000000  3.000000e+03\n",
      "25%     9.500000           2.50000  22.500000  2.250000e+04\n",
      "50%    18.000000           6.00000  29.000000  2.500000e+05\n",
      "75%    26.500000          15.00000  53.500000  3.270000e+06\n",
      "max    35.000000          27.00000  62.000000  1.000000e+07\n"
     ]
    }
   ],
   "source": [
    "df = pd.read_csv('employee_salary.csv')\n",
    "print(df.describe())"
   ]
  },
  {
   "cell_type": "code",
   "execution_count": 3,
   "metadata": {},
   "outputs": [
    {
     "name": "stdout",
     "output_type": "stream",
     "text": [
      "<class 'pandas.core.frame.DataFrame'>\n",
      "RangeIndex: 35 entries, 0 to 34\n",
      "Data columns (total 5 columns):\n",
      " #   Column            Non-Null Count  Dtype \n",
      "---  ------            --------------  ----- \n",
      " 0   ID                35 non-null     int64 \n",
      " 1   Experience_Years  35 non-null     int64 \n",
      " 2   Age               35 non-null     int64 \n",
      " 3   Gender            35 non-null     object\n",
      " 4   Salary            35 non-null     int64 \n",
      "dtypes: int64(4), object(1)\n",
      "memory usage: 1.5+ KB\n",
      "None\n"
     ]
    }
   ],
   "source": [
    "print(df.info())"
   ]
  },
  {
   "cell_type": "code",
   "execution_count": 4,
   "metadata": {},
   "outputs": [],
   "source": [
    "x = df[['Experience_Years']].values  # Reshaping to a 2D array\n",
    "y = df['Salary'].values"
   ]
  },
  {
   "cell_type": "code",
   "execution_count": 5,
   "metadata": {},
   "outputs": [
    {
     "name": "stdout",
     "output_type": "stream",
     "text": [
      "[[ 5]\n",
      " [ 1]\n",
      " [ 3]\n",
      " [ 2]\n",
      " [ 1]\n",
      " [25]\n",
      " [19]\n",
      " [ 2]\n",
      " [10]\n",
      " [15]\n",
      " [ 4]\n",
      " [ 6]\n",
      " [14]\n",
      " [11]\n",
      " [ 2]\n",
      " [ 4]\n",
      " [10]\n",
      " [15]\n",
      " [ 2]\n",
      " [10]\n",
      " [15]\n",
      " [ 4]\n",
      " [ 5]\n",
      " [ 1]\n",
      " [ 4]\n",
      " [ 3]\n",
      " [ 1]\n",
      " [27]\n",
      " [19]\n",
      " [ 2]\n",
      " [10]\n",
      " [15]\n",
      " [20]\n",
      " [19]\n",
      " [16]]\n"
     ]
    }
   ],
   "source": [
    "print(x)"
   ]
  },
  {
   "cell_type": "code",
   "execution_count": 6,
   "metadata": {},
   "outputs": [
    {
     "name": "stdout",
     "output_type": "stream",
     "text": [
      "[  250000    50000   170000    25000    10000  5001000   800000     9000\n",
      "    61500   650000   250000  1400000  6000050   220100     7500    87000\n",
      "   930000  7900000    15000   330000  6570000    25000  6845000     6000\n",
      "     8900    20000     3000 10000000  5000000     6100    80000   900000\n",
      "  1540000  9300000  7600000]\n"
     ]
    }
   ],
   "source": [
    "print(y)"
   ]
  },
  {
   "cell_type": "code",
   "execution_count": 15,
   "metadata": {},
   "outputs": [
    {
     "data": {
      "image/png": "[encoded data removed]",
      "text/plain": [
       "<Figure size 640x480 with 1 Axes>"
      ]
     },
     "metadata": {},
     "output_type": "display_data"
    }
   ],
   "source": [
    "plt.scatter(x=df['Experience_Years'],y=df['Salary'], color='red')\n",
    "plt.show()"
   ]
  },
  {
   "cell_type": "markdown",
   "metadata": {},
   "source": [
    "This code creates a scatter plot using Matplotlib. It visualizes the relationship between 'Experience_Years' and 'Salary' columns from the DataFrame."
   ]
  },
  {
   "cell_type": "markdown",
   "metadata": {},
   "source": [
    "### Sklearn library\n",
    "This code splits the data into training and testing sets using train_test_split() function from scikit-learn. It takes x (features) and y (target), splits them into training and testing sets (80% training, 20% testing), and assigns them to x_train, x_test, y_train, and y_test respectively."
   ]
  },
  {
   "cell_type": "code",
   "execution_count": 8,
   "metadata": {},
   "outputs": [],
   "source": [
    "from sklearn.model_selection import train_test_split\n",
    "x_train,x_test,y_train,y_test = train_test_split(x,y, test_size=0.2, random_state=0)"
   ]
  },
  {
   "cell_type": "markdown",
   "metadata": {},
   "source": [
    "This code imports the LinearRegression class from scikit-learn, creates a regression model object called regressor, and fits the model to the training data using the fit() method."
   ]
  },
  {
   "cell_type": "code",
   "execution_count": 9,
   "metadata": {},
   "outputs": [],
   "source": [
    "from sklearn.linear_model import LinearRegression"
   ]
  },
  {
   "cell_type": "code",
   "execution_count": 10,
   "metadata": {},
   "outputs": [],
   "source": [
    "regressor = LinearRegression()"
   ]
  },
  {
   "cell_type": "markdown",
   "metadata": {},
   "source": [
    "Finally, this code prints out the slope (coefficients) and intercept of the fitted regression line. These coefficients represent the relationship between the features and the target variable in the linear regression model."
   ]
  },
  {
   "cell_type": "code",
   "execution_count": 11,
   "metadata": {},
   "outputs": [
    {
     "name": "stdout",
     "output_type": "stream",
     "text": [
      "Slope:  [291291.3453181]\n",
      "Intercept:  -865270.4935235623\n"
     ]
    }
   ],
   "source": [
    "regressor.fit(x_train, y_train)\n",
    "print('Slope: ',regressor.coef_)\n",
    "print('Intercept: ',regressor.intercept_)"
   ]
  },
  {
   "cell_type": "code",
   "execution_count": 14,
   "metadata": {},
   "outputs": [
    {
     "data": {
      "image/png": "[encoded data removed]",
      "text/plain": [
       "<Figure size 640x480 with 1 Axes>"
      ]
     },
     "metadata": {},
     "output_type": "display_data"
    }
   ],
   "source": [
    "plt.scatter(x_test,y_test,c='r')\n",
    "plt.plot(x_train,regressor.predict(x_train),color='blue')\n",
    "plt.title('Salary VS Experince (Test Data)')\n",
    "plt.xlabel('Years of Experience')\n",
    "plt.ylabel('Salary')\n",
    "plt.show()"
   ]
  }
 ],
 "metadata": {
  "kernelspec": {
   "display_name": "Python 3",
   "language": "python",
   "name": "python3"
  },
  "language_info": {
   "codemirror_mode": {
    "name": "ipython",
    "version": 3
   },
   "file_extension": ".py",
   "mimetype": "text/x-python",
   "name": "python",
   "nbconvert_exporter": "python",
   "pygments_lexer": "ipython3",
   "version": "3.10.6"
  }
 },
 "nbformat": 4,
 "nbformat_minor": 2
}
